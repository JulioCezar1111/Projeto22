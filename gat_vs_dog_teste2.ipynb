{
  "nbformat": 4,
  "nbformat_minor": 0,
  "metadata": {
    "colab": {
      "name": "gat_vs_dog_teste2.ipynb",
      "provenance": [],
      "authorship_tag": "ABX9TyOe70HhGT9itWd2ClRrevvH",
      "include_colab_link": true
    },
    "kernelspec": {
      "name": "python3",
      "display_name": "Python 3"
    },
    "language_info": {
      "name": "python"
    }
  },
  "cells": [
    {
      "cell_type": "markdown",
      "metadata": {
        "id": "view-in-github",
        "colab_type": "text"
      },
      "source": [
        "<a href=\"https://colab.research.google.com/github/JulioCezar1111/Projeto22/blob/main/gat_vs_dog_teste2.ipynb\" target=\"_parent\"><img src=\"https://colab.research.google.com/assets/colab-badge.svg\" alt=\"Open In Colab\"/></a>"
      ]
    },
    {
      "cell_type": "markdown",
      "source": [
        "# **Cats vs Dogs (Kaggle)**\n",
        "https://www.kaggle.com/c/dogs-vs-cats/"
      ],
      "metadata": {
        "id": "JuetycyccNa_"
      }
    },
    {
      "cell_type": "markdown",
      "source": [
        "# **Carregar imagens do diretorio**"
      ],
      "metadata": {
        "id": "8PZZXcsxkAWU"
      }
    },
    {
      "cell_type": "code",
      "source": [
        "import os\n",
        "current_dir = os.path.abspath(os.getcwd())"
      ],
      "metadata": {
        "id": "byU2qr7PkFeq"
      },
      "execution_count": null,
      "outputs": []
    },
    {
      "cell_type": "markdown",
      "source": [
        "# **Converter base de dados para treino, validação e teste**"
      ],
      "metadata": {
        "id": "noKfpe1AcTu6"
      }
    },
    {
      "cell_type": "code",
      "source": [
        "folder = \"\\\\cats_and_dogs_dataset\"\n",
        "train_folder = current_dir + folder + \"\\\\train\"\n",
        "val_folder = current_dir + folder + \"\\\\validation\"\n",
        "test_folder = current_dir + folder + \"\\\\test\""
      ],
      "metadata": {
        "id": "uUdh_8TocXUb"
      },
      "execution_count": null,
      "outputs": []
    },
    {
      "cell_type": "markdown",
      "source": [
        "# **Fazer o Tensorflow carregar as imagens para a RNA**"
      ],
      "metadata": {
        "id": "K0xHDWoZcgeZ"
      }
    },
    {
      "cell_type": "code",
      "source": [
        "import tensorflow as tf\n",
        "\n",
        "print(tf.__version__)\n",
        "print(tf.config.list_physical_devices('GPU'))"
      ],
      "metadata": {
        "id": "5CC2xbK_cpwb"
      },
      "execution_count": null,
      "outputs": []
    },
    {
      "cell_type": "code",
      "source": [
        "from tensorflow.keras.utils import image_dataset_from_directory\n",
        "\n",
        "train_dataset = image_dataset_from_directory(train_folder,\n",
        "                                             image_size=(180, 180),\n",
        "                                             batch_size=32)\n",
        "\n",
        "validation_dataset = image_dataset_from_directory(val_folder,\n",
        "                                                  image_size=(180, 180),\n",
        "                                                  batch_size=32)\n",
        "\n",
        "test_dataset = image_dataset_from_directory(test_folder,\n",
        "                                            image_size=(180, 180),\n",
        "                                            batch_size=32)"
      ],
      "metadata": {
        "id": "alHFCw8JcyBl"
      },
      "execution_count": null,
      "outputs": []
    },
    {
      "cell_type": "code",
      "source": [
        "for data_batch, labels_batch in train_dataset:\n",
        "    print(\"data batch shape:\", data_batch.shape)\n",
        "    print(\"labels batch shape:\", labels_batch.shape)\n",
        "    print(data_batch[0].shape)\n",
        "    break"
      ],
      "metadata": {
        "id": "A6vRAzO2c6nT"
      },
      "execution_count": null,
      "outputs": []
    },
    {
      "cell_type": "markdown",
      "source": [
        "# **Treinando o modelo**"
      ],
      "metadata": {
        "id": "rnaQiu0Ec7nP"
      }
    },
    {
      "cell_type": "code",
      "source": [
        "from tensorflow import keras\n",
        "from tensorflow.keras.layers import Conv2D, MaxPooling2D, Flatten, Dense\n",
        "from tensorflow.keras.layers.experimental.preprocessing import Rescaling\n",
        "\n",
        "model = keras.Sequential()\n",
        "model.add(Rescaling(scale=1.0/255))\n",
        "model.add(Conv2D(32, kernel_size=(3, 3), activation='relu'))\n",
        "model.add(MaxPooling2D(pool_size=(2, 2)))\n",
        "model.add(Conv2D(64, kernel_size=(3, 3), activation='relu'))\n",
        "model.add(MaxPooling2D(pool_size=(2, 2)))\n",
        "model.add(Conv2D(128, kernel_size=(3, 3), activation='relu'))\n",
        "model.add(Flatten())\n",
        "model.add(Dense(1, activation=\"sigmoid\"))\n",
        "\n",
        "model.compile(loss=\"binary_crossentropy\",\n",
        "              optimizer=\"adam\",\n",
        "              metrics=[\"accuracy\"])"
      ],
      "metadata": {
        "id": "1yQgw02WdCzo"
      },
      "execution_count": null,
      "outputs": []
    },
    {
      "cell_type": "code",
      "source": [
        "from tensorflow.keras.callbacks import ModelCheckpoint\n",
        "\n",
        "callbacks = [\n",
        "    ModelCheckpoint(\n",
        "        filepath=\"model2.keras\",\n",
        "        save_best_only=True,\n",
        "        monitor=\"val_loss\"\n",
        "    )\n",
        "]\n",
        "\n",
        "history = model.fit(\n",
        "    train_dataset,\n",
        "    epochs=30,\n",
        "    validation_data=validation_dataset,\n",
        "    callbacks=callbacks)"
      ],
      "metadata": {
        "id": "fomfOpeqdIzY"
      },
      "execution_count": null,
      "outputs": []
    },
    {
      "cell_type": "code",
      "source": [
        "model.summary()"
      ],
      "metadata": {
        "id": "IzHG7Oj8dRl8"
      },
      "execution_count": null,
      "outputs": []
    },
    {
      "cell_type": "markdown",
      "source": [
        "# **Visualização de Resultados**"
      ],
      "metadata": {
        "id": "6fDHqvoSdNiZ"
      }
    },
    {
      "cell_type": "code",
      "source": [
        "import matplotlib.pyplot as plt\n",
        "accuracy = history.history[\"accuracy\"]\n",
        "val_accuracy = history.history[\"val_accuracy\"]\n",
        "loss = history.history[\"loss\"]\n",
        "val_loss = history.history[\"val_loss\"]\n",
        "epochs = range(1, len(accuracy) + 1)\n",
        "plt.plot(epochs, accuracy, \"r\", label=\"Treino acc\")\n",
        "plt.plot(epochs, val_accuracy, \"b\", label=\"Val acc\")\n",
        "plt.xlabel(\"Épocas\")\n",
        "plt.ylabel(\"%s\")\n",
        "plt.title(\"Acurácia de Treino e Validação\")\n",
        "plt.legend()\n",
        "plt.figure()\n",
        "plt.plot(epochs, loss, \"r\", label=\"Treino loss\")\n",
        "plt.plot(epochs, val_loss, \"b\", label=\"Val loss\")\n",
        "plt.xlabel(\"Épocas\")\n",
        "plt.ylabel(\"%s\")\n",
        "plt.title(\"Loss de Treino e Validação\")\n",
        "plt.legend()\n",
        "plt.show()"
      ],
      "metadata": {
        "id": "QM3KsZmsdWkH"
      },
      "execution_count": null,
      "outputs": []
    },
    {
      "cell_type": "markdown",
      "source": [
        "# **Resultados do Conjunto de Teste**"
      ],
      "metadata": {
        "id": "MZOxfrW0dgJG"
      }
    },
    {
      "cell_type": "code",
      "source": [
        "from tensorflow import keras\n",
        "model = keras.models.load_model(\"model2.keras\")"
      ],
      "metadata": {
        "id": "7y8YyhOSdhy7"
      },
      "execution_count": null,
      "outputs": []
    },
    {
      "cell_type": "code",
      "source": [
        "test_loss, test_acc = model.evaluate(test_dataset)\n",
        "print(f\"Test accuracy: {test_acc:.3f}\")"
      ],
      "metadata": {
        "id": "kb1XJmt7dkwi"
      },
      "execution_count": null,
      "outputs": []
    },
    {
      "cell_type": "markdown",
      "source": [
        "# **Predição Imagem individual**"
      ],
      "metadata": {
        "id": "28L5hVOUdpTU"
      }
    },
    {
      "cell_type": "code",
      "source": [
        "from matplotlib import pyplot as plt\n",
        "\n",
        "def showSingleImage(img, title, size):\n",
        "    fig, axis = plt.subplots(figsize = size)\n",
        "\n",
        "    axis.imshow(img, 'gray')\n",
        "    axis.set_title(title, fontdict = {'fontsize': 20, 'fontweight': 'medium'})\n",
        "    plt.show()"
      ],
      "metadata": {
        "id": "pMk0hCvOdsUl"
      },
      "execution_count": null,
      "outputs": []
    },
    {
      "cell_type": "code",
      "source": [
        "import cv2\n",
        "ada_img = cv2.imread(\"ada.jpg\")\n",
        "ada_img = cv2.cvtColor(ada_img, cv2.COLOR_BGR2RGB)\n",
        "#ada_img = cv2.resize(ada_img, (180, 180), interpolation = cv2.INTER_AREA)\n",
        "\n",
        "showSingleImage(ada_img, \"Ada\", (12, 8))"
      ],
      "metadata": {
        "id": "gq_Rwc86d150"
      },
      "execution_count": null,
      "outputs": []
    },
    {
      "cell_type": "code",
      "source": [
        "from keras.preprocessing import image\n",
        "import numpy as np\n",
        "\n",
        "ada_img = image.load_img(\"ada.jpg\", target_size=(180, 180))\n",
        "x = image.img_to_array(ada_img)\n",
        "x = np.expand_dims(x, axis=0)\n",
        "pred=(model.predict(x) > 0.5).astype('int32')[0][0]\n",
        "\n",
        "if pred == 1:\n",
        "    print(\"Cachorro\")\n",
        "else:\n",
        "    print(\"Gato\")\n",
        "    \n",
        "print(model.predict(x))"
      ],
      "metadata": {
        "id": "Fc9z15UMd7Om"
      },
      "execution_count": null,
      "outputs": []
    }
  ]
}